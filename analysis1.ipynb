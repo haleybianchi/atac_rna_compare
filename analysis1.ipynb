{
  "nbformat": 4,
  "nbformat_minor": 0,
  "metadata": {
    "colab": {
      "provenance": [],
      "mount_file_id": "1TS5PwS7QUomKeQgLkm74JGz1oiIJtJMh",
      "authorship_tag": "ABX9TyPC57UM/F110jKGQrAOcbDz",
      "include_colab_link": true
    },
    "kernelspec": {
      "name": "python3",
      "display_name": "Python 3"
    },
    "language_info": {
      "name": "python"
    }
  },
  "cells": [
    {
      "cell_type": "markdown",
      "metadata": {
        "id": "view-in-github",
        "colab_type": "text"
      },
      "source": [
        "<a href=\"https://colab.research.google.com/github/haleybianchi/atac_rna_compare/blob/main/analysis1.ipynb\" target=\"_parent\"><img src=\"https://colab.research.google.com/assets/colab-badge.svg\" alt=\"Open In Colab\"/></a>"
      ]
    },
    {
      "cell_type": "markdown",
      "source": [
        "This notebook aims to explore the patterns of opening and closing along the b lineage"
      ],
      "metadata": {
        "id": "dxW1kkfqMq0E"
      }
    },
    {
      "cell_type": "code",
      "execution_count": 1,
      "metadata": {
        "id": "fmxTKAqnMnUP"
      },
      "outputs": [],
      "source": [
        "import pandas as pd\n",
        "import numpy as np\n",
        "import matplotlib.pyplot as plt\n",
        "from sklearn.decomposition import FactorAnalysis, PCA\n",
        "from sklearn.preprocessing import StandardScaler\n",
        "from sklearn.datasets import load_iris\n",
        "from scipy import stats"
      ]
    },
    {
      "cell_type": "markdown",
      "source": [
        "Import the Data, use to convert \n",
        "https://www.oreilly.com/library/view/elegant-scipy/9781491922927/ch01.html"
      ],
      "metadata": {
        "id": "dDRjgwv7s_uE"
      }
    },
    {
      "cell_type": "code",
      "source": [
        "atac = pd.read_csv(\"https://sharehost.hms.harvard.edu/immgen/ImmGenATAC18_AllOCRsInfo.csv\")\n",
        "rna = pd.read_csv(\"https://ftp.ncbi.nlm.nih.gov/geo/series/GSE109nnn/GSE109125/suppl/GSE109125_Gene_count_table.csv.gz\")"
      ],
      "metadata": {
        "id": "WU6DJhUPtCG5"
      },
      "execution_count": 2,
      "outputs": []
    },
    {
      "cell_type": "code",
      "source": [
        "b_lin = ['ImmGenATAC1219.peakID', 'chrom', 'Summit', 'TSS', 'genes.within.100Kb','proB.CLP.BM', 'proB.FrA.BM', 'proB.FrBC.BM', 'preB.FrD.BM', 'B.FrE.BM',\n",
        "       'B1b.PC', 'B.T1.Sp', 'B.T2.Sp', 'B.T3.Sp', 'B.Sp', 'B.Fem.Sp',\n",
        "       'B.MZ.Sp', 'B.Fo.Sp', 'B.mem.Sp', 'B.GC.CB.Sp', 'B.GC.CC.Sp', 'B.PB.Sp',\n",
        "       'B.PC.Sp', 'B.PC.BM']"
      ],
      "metadata": {
        "id": "AjSg8cWoCfN3"
      },
      "execution_count": 3,
      "outputs": []
    },
    {
      "cell_type": "code",
      "source": [
        "# rna.Gene_Symbol[i] where i is the item in the row "
      ],
      "metadata": {
        "id": "xn-RuMfqa8Da"
      },
      "execution_count": 4,
      "outputs": []
    },
    {
      "cell_type": "markdown",
      "source": [
        "to save a copy : new_df = old_df[list_of_columns_names].copy() or new_df = old_df.loc[:, list_of_columns_names]"
      ],
      "metadata": {
        "id": "X4t78Nn7oEUj"
      }
    },
    {
      "cell_type": "code",
      "source": [
        "# 2D ndarray containing expression counts for each gene in each individual\n",
        "counts = np.asarray(rna.iloc[:,1:], dtype=int)\n",
        "names = np.array(rna.iloc[:, 0])\n",
        "names"
      ],
      "metadata": {
        "id": "eXetV-bIPV3m",
        "colab": {
          "base_uri": "https://localhost:8080/"
        },
        "outputId": "215ff3fe-1747-43a1-a286-931d4fa47e82"
      },
      "execution_count": 5,
      "outputs": [
        {
          "output_type": "execute_result",
          "data": {
            "text/plain": [
              "array(['0610005C13Rik', '0610006L08Rik', '0610009B22Rik', ..., 'Zyx',\n",
              "       'Zzef1', 'Zzz3'], dtype=object)"
            ]
          },
          "metadata": {},
          "execution_count": 5
        }
      ]
    },
    {
      "cell_type": "code",
      "source": [
        "\n",
        "# Check how many genes and individuals were measured\n",
        "print(f'{counts.shape[0]} genes measured in {counts.shape[1]} individuals.')"
      ],
      "metadata": {
        "colab": {
          "base_uri": "https://localhost:8080/"
        },
        "id": "OtKrNDUlRlcp",
        "outputId": "0f71e53a-6378-4410-e203-f0305b41d231"
      },
      "execution_count": 6,
      "outputs": [
        {
          "output_type": "stream",
          "name": "stdout",
          "text": [
            "52997 genes measured in 205 individuals.\n"
          ]
        }
      ]
    },
    {
      "cell_type": "code",
      "source": [
        "total_counts = np.sum(counts, axis=0)  # sum columns together\n",
        "                                       # (axis=1 would sum rows)"
      ],
      "metadata": {
        "id": "h9rlIf9xRuHh"
      },
      "execution_count": 7,
      "outputs": []
    },
    {
      "cell_type": "markdown",
      "source": [
        "The lowest number of reads per individual is hard to compare when the highest number of reads is 10 times larger"
      ],
      "metadata": {
        "id": "07Yi52SAkVYc"
      }
    },
    {
      "cell_type": "code",
      "source": [
        "# take each gene count and divide by the total number of counts per individual\n",
        "count_norm = (counts/ total_counts)*1000000\n"
      ],
      "metadata": {
        "id": "Z_9-OP9xkgJW"
      },
      "execution_count": 8,
      "outputs": []
    },
    {
      "cell_type": "code",
      "source": [
        "samples = rna.columns\n",
        "rna_norm = pd.DataFrame(count_norm, columns=samples[1:])\n",
        "rna_norm.insert(0,\"Gene_Symbol\", rna.Gene_Symbol)\n",
        "rna_norm"
      ],
      "metadata": {
        "colab": {
          "base_uri": "https://localhost:8080/",
          "height": 505
        },
        "id": "EtX2mlxnnN5Y",
        "outputId": "858ed5e0-633e-480d-f834-916286b78dd4"
      },
      "execution_count": 9,
      "outputs": [
        {
          "output_type": "execute_result",
          "data": {
            "text/plain": [
              "         Gene_Symbol  B.Fem.Sp#1   B.Fo.Sp#1   B.Fo.Sp#2   B.Fo.Sp#3  \\\n",
              "0      0610005C13Rik    0.142343    0.291435    1.669887    1.787186   \n",
              "1      0610006L08Rik    0.000000    0.000000    0.000000    0.000000   \n",
              "2      0610009B22Rik   12.668493    9.617366    9.065102   15.063425   \n",
              "3      0610009E02Rik    0.711713    0.582871    0.000000    0.510625   \n",
              "4      0610009L18Rik    2.277482    1.457177    4.293996    2.936091   \n",
              "...              ...         ...         ...         ...         ...   \n",
              "52992         Zyg11a    0.000000    0.000000    0.238555    0.000000   \n",
              "52993         Zyg11b   72.594734   70.235914   86.118467   62.551509   \n",
              "52994            Zyx   39.998275   63.241466   54.629166   71.615095   \n",
              "52995          Zzef1  111.596610  117.448437  144.564517  141.953629   \n",
              "52996           Zzz3   82.843402   67.030125   86.357022   88.210394   \n",
              "\n",
              "        B.Fo.Sp#4  B.FrE.BM#1  B.FrE.BM#2  B.GC.CB.Sp#1  B.GC.CB.Sp#2  ...  \\\n",
              "0        0.000000    1.076533    0.353283      1.871367      0.000000  ...   \n",
              "1        0.000000    0.000000    0.000000      0.000000      0.000000  ...   \n",
              "2        8.899027   19.531388   19.960482     17.590854     21.968858  ...   \n",
              "3        0.247195    0.922743    1.413131      1.122820      1.318131  ...   \n",
              "4        5.191099    2.460647    1.413131      5.239829      3.954394  ...   \n",
              "...           ...         ...         ...           ...           ...  ...   \n",
              "52992    0.000000    0.000000    0.000000      0.374273      0.000000  ...   \n",
              "52993   70.450632   61.208602   62.001143     65.497860     50.088996  ...   \n",
              "52994   46.719893   25.529216   22.610103      6.736923     14.060069  ...   \n",
              "52995  147.822729  155.789734  129.124887    212.213068    121.707472  ...   \n",
              "52996   81.080025   46.137137   67.300385     83.837261     58.437162  ...   \n",
              "\n",
              "       NKT.19-8-TCRb+CD1daGalCerTet+.Sp#2  NKT.19-8-TCRb+CD1daGalCerTet+.Sp#3  \\\n",
              "0                                0.185785                            0.218916   \n",
              "1                                0.000000                            0.000000   \n",
              "2                                5.573552                            6.348556   \n",
              "3                                0.371570                            0.000000   \n",
              "4                                1.300495                            0.875663   \n",
              "...                                   ...                                 ...   \n",
              "52992                            0.000000                            0.000000   \n",
              "52993                           77.843942                           76.839417   \n",
              "52994                          347.232286                          378.724194   \n",
              "52995                          111.285254                          107.706534   \n",
              "52996                           37.900153                           56.699171   \n",
              "\n",
              "       NKT.19-8-TCRb+CD1daGalCerTet+.Th#1  NKT.19-8-TCRb+CD1daGalCerTet+.Th#2  \\\n",
              "0                                0.420551                            0.249834   \n",
              "1                                0.000000                            0.249834   \n",
              "2                                7.569911                            7.744865   \n",
              "3                                0.000000                            0.249834   \n",
              "4                                3.995231                            3.997350   \n",
              "...                                   ...                                 ...   \n",
              "52992                            0.420551                            0.000000   \n",
              "52993                           77.171040                           79.946995   \n",
              "52994                          589.611979                          534.645530   \n",
              "52995                          105.347932                          124.417511   \n",
              "52996                           48.573597                           42.721676   \n",
              "\n",
              "       NKT.19-8-TCRb+CD1daGalCerTet+.Th#3  NKT.19-8-TCRb+CD1daGalCerTet+.Lv#1  \\\n",
              "0                                0.495226                            0.767931   \n",
              "1                                0.000000                            0.000000   \n",
              "2                                6.933159                            4.607585   \n",
              "3                                1.485677                            0.767931   \n",
              "4                                1.650752                            0.959913   \n",
              "...                                   ...                                 ...   \n",
              "52992                            0.000000                            0.000000   \n",
              "52993                           56.950945                           53.563170   \n",
              "52994                          537.649940                          455.382935   \n",
              "52995                          100.530799                          115.765561   \n",
              "52996                           54.970043                           46.651793   \n",
              "\n",
              "       NKT.19-8-TCRb+CD1daGalCerTet+.Lv#2  NKT.19-8-TCRb+CD1daGalCerTet+.Lv#3  \\\n",
              "0                                0.789462                            0.813956   \n",
              "1                                0.000000                            0.000000   \n",
              "2                                5.052559                            5.046526   \n",
              "3                                0.789462                            0.651165   \n",
              "4                                1.736817                            2.767450   \n",
              "...                                   ...                                 ...   \n",
              "52992                            0.315785                            0.000000   \n",
              "52993                           53.841334                           65.604834   \n",
              "52994                          434.362203                          468.024562   \n",
              "52995                          108.156346                          131.698042   \n",
              "52996                           49.736130                           52.744333   \n",
              "\n",
              "       T.4.19-8-TCRb+CD4+.Sp#1  T.4.19-8-TCRb+CD4+.Sp#2  \n",
              "0                     0.457306                 1.243582  \n",
              "1                     1.600570                 0.000000  \n",
              "2                     7.088239                 5.471760  \n",
              "3                     0.228653                 0.248716  \n",
              "4                     2.972487                 4.228178  \n",
              "...                        ...                      ...  \n",
              "52992                 0.000000                 0.000000  \n",
              "52993                97.406116                75.858494  \n",
              "52994               158.456429               157.437465  \n",
              "52995                88.945961                97.496819  \n",
              "52996                60.135701                77.848225  \n",
              "\n",
              "[52997 rows x 206 columns]"
            ],
            "text/html": [
              "\n",
              "  <div id=\"df-92e281fb-c114-401d-9c5c-f836200925a7\">\n",
              "    <div class=\"colab-df-container\">\n",
              "      <div>\n",
              "<style scoped>\n",
              "    .dataframe tbody tr th:only-of-type {\n",
              "        vertical-align: middle;\n",
              "    }\n",
              "\n",
              "    .dataframe tbody tr th {\n",
              "        vertical-align: top;\n",
              "    }\n",
              "\n",
              "    .dataframe thead th {\n",
              "        text-align: right;\n",
              "    }\n",
              "</style>\n",
              "<table border=\"1\" class=\"dataframe\">\n",
              "  <thead>\n",
              "    <tr style=\"text-align: right;\">\n",
              "      <th></th>\n",
              "      <th>Gene_Symbol</th>\n",
              "      <th>B.Fem.Sp#1</th>\n",
              "      <th>B.Fo.Sp#1</th>\n",
              "      <th>B.Fo.Sp#2</th>\n",
              "      <th>B.Fo.Sp#3</th>\n",
              "      <th>B.Fo.Sp#4</th>\n",
              "      <th>B.FrE.BM#1</th>\n",
              "      <th>B.FrE.BM#2</th>\n",
              "      <th>B.GC.CB.Sp#1</th>\n",
              "      <th>B.GC.CB.Sp#2</th>\n",
              "      <th>...</th>\n",
              "      <th>NKT.19-8-TCRb+CD1daGalCerTet+.Sp#2</th>\n",
              "      <th>NKT.19-8-TCRb+CD1daGalCerTet+.Sp#3</th>\n",
              "      <th>NKT.19-8-TCRb+CD1daGalCerTet+.Th#1</th>\n",
              "      <th>NKT.19-8-TCRb+CD1daGalCerTet+.Th#2</th>\n",
              "      <th>NKT.19-8-TCRb+CD1daGalCerTet+.Th#3</th>\n",
              "      <th>NKT.19-8-TCRb+CD1daGalCerTet+.Lv#1</th>\n",
              "      <th>NKT.19-8-TCRb+CD1daGalCerTet+.Lv#2</th>\n",
              "      <th>NKT.19-8-TCRb+CD1daGalCerTet+.Lv#3</th>\n",
              "      <th>T.4.19-8-TCRb+CD4+.Sp#1</th>\n",
              "      <th>T.4.19-8-TCRb+CD4+.Sp#2</th>\n",
              "    </tr>\n",
              "  </thead>\n",
              "  <tbody>\n",
              "    <tr>\n",
              "      <th>0</th>\n",
              "      <td>0610005C13Rik</td>\n",
              "      <td>0.142343</td>\n",
              "      <td>0.291435</td>\n",
              "      <td>1.669887</td>\n",
              "      <td>1.787186</td>\n",
              "      <td>0.000000</td>\n",
              "      <td>1.076533</td>\n",
              "      <td>0.353283</td>\n",
              "      <td>1.871367</td>\n",
              "      <td>0.000000</td>\n",
              "      <td>...</td>\n",
              "      <td>0.185785</td>\n",
              "      <td>0.218916</td>\n",
              "      <td>0.420551</td>\n",
              "      <td>0.249834</td>\n",
              "      <td>0.495226</td>\n",
              "      <td>0.767931</td>\n",
              "      <td>0.789462</td>\n",
              "      <td>0.813956</td>\n",
              "      <td>0.457306</td>\n",
              "      <td>1.243582</td>\n",
              "    </tr>\n",
              "    <tr>\n",
              "      <th>1</th>\n",
              "      <td>0610006L08Rik</td>\n",
              "      <td>0.000000</td>\n",
              "      <td>0.000000</td>\n",
              "      <td>0.000000</td>\n",
              "      <td>0.000000</td>\n",
              "      <td>0.000000</td>\n",
              "      <td>0.000000</td>\n",
              "      <td>0.000000</td>\n",
              "      <td>0.000000</td>\n",
              "      <td>0.000000</td>\n",
              "      <td>...</td>\n",
              "      <td>0.000000</td>\n",
              "      <td>0.000000</td>\n",
              "      <td>0.000000</td>\n",
              "      <td>0.249834</td>\n",
              "      <td>0.000000</td>\n",
              "      <td>0.000000</td>\n",
              "      <td>0.000000</td>\n",
              "      <td>0.000000</td>\n",
              "      <td>1.600570</td>\n",
              "      <td>0.000000</td>\n",
              "    </tr>\n",
              "    <tr>\n",
              "      <th>2</th>\n",
              "      <td>0610009B22Rik</td>\n",
              "      <td>12.668493</td>\n",
              "      <td>9.617366</td>\n",
              "      <td>9.065102</td>\n",
              "      <td>15.063425</td>\n",
              "      <td>8.899027</td>\n",
              "      <td>19.531388</td>\n",
              "      <td>19.960482</td>\n",
              "      <td>17.590854</td>\n",
              "      <td>21.968858</td>\n",
              "      <td>...</td>\n",
              "      <td>5.573552</td>\n",
              "      <td>6.348556</td>\n",
              "      <td>7.569911</td>\n",
              "      <td>7.744865</td>\n",
              "      <td>6.933159</td>\n",
              "      <td>4.607585</td>\n",
              "      <td>5.052559</td>\n",
              "      <td>5.046526</td>\n",
              "      <td>7.088239</td>\n",
              "      <td>5.471760</td>\n",
              "    </tr>\n",
              "    <tr>\n",
              "      <th>3</th>\n",
              "      <td>0610009E02Rik</td>\n",
              "      <td>0.711713</td>\n",
              "      <td>0.582871</td>\n",
              "      <td>0.000000</td>\n",
              "      <td>0.510625</td>\n",
              "      <td>0.247195</td>\n",
              "      <td>0.922743</td>\n",
              "      <td>1.413131</td>\n",
              "      <td>1.122820</td>\n",
              "      <td>1.318131</td>\n",
              "      <td>...</td>\n",
              "      <td>0.371570</td>\n",
              "      <td>0.000000</td>\n",
              "      <td>0.000000</td>\n",
              "      <td>0.249834</td>\n",
              "      <td>1.485677</td>\n",
              "      <td>0.767931</td>\n",
              "      <td>0.789462</td>\n",
              "      <td>0.651165</td>\n",
              "      <td>0.228653</td>\n",
              "      <td>0.248716</td>\n",
              "    </tr>\n",
              "    <tr>\n",
              "      <th>4</th>\n",
              "      <td>0610009L18Rik</td>\n",
              "      <td>2.277482</td>\n",
              "      <td>1.457177</td>\n",
              "      <td>4.293996</td>\n",
              "      <td>2.936091</td>\n",
              "      <td>5.191099</td>\n",
              "      <td>2.460647</td>\n",
              "      <td>1.413131</td>\n",
              "      <td>5.239829</td>\n",
              "      <td>3.954394</td>\n",
              "      <td>...</td>\n",
              "      <td>1.300495</td>\n",
              "      <td>0.875663</td>\n",
              "      <td>3.995231</td>\n",
              "      <td>3.997350</td>\n",
              "      <td>1.650752</td>\n",
              "      <td>0.959913</td>\n",
              "      <td>1.736817</td>\n",
              "      <td>2.767450</td>\n",
              "      <td>2.972487</td>\n",
              "      <td>4.228178</td>\n",
              "    </tr>\n",
              "    <tr>\n",
              "      <th>...</th>\n",
              "      <td>...</td>\n",
              "      <td>...</td>\n",
              "      <td>...</td>\n",
              "      <td>...</td>\n",
              "      <td>...</td>\n",
              "      <td>...</td>\n",
              "      <td>...</td>\n",
              "      <td>...</td>\n",
              "      <td>...</td>\n",
              "      <td>...</td>\n",
              "      <td>...</td>\n",
              "      <td>...</td>\n",
              "      <td>...</td>\n",
              "      <td>...</td>\n",
              "      <td>...</td>\n",
              "      <td>...</td>\n",
              "      <td>...</td>\n",
              "      <td>...</td>\n",
              "      <td>...</td>\n",
              "      <td>...</td>\n",
              "      <td>...</td>\n",
              "    </tr>\n",
              "    <tr>\n",
              "      <th>52992</th>\n",
              "      <td>Zyg11a</td>\n",
              "      <td>0.000000</td>\n",
              "      <td>0.000000</td>\n",
              "      <td>0.238555</td>\n",
              "      <td>0.000000</td>\n",
              "      <td>0.000000</td>\n",
              "      <td>0.000000</td>\n",
              "      <td>0.000000</td>\n",
              "      <td>0.374273</td>\n",
              "      <td>0.000000</td>\n",
              "      <td>...</td>\n",
              "      <td>0.000000</td>\n",
              "      <td>0.000000</td>\n",
              "      <td>0.420551</td>\n",
              "      <td>0.000000</td>\n",
              "      <td>0.000000</td>\n",
              "      <td>0.000000</td>\n",
              "      <td>0.315785</td>\n",
              "      <td>0.000000</td>\n",
              "      <td>0.000000</td>\n",
              "      <td>0.000000</td>\n",
              "    </tr>\n",
              "    <tr>\n",
              "      <th>52993</th>\n",
              "      <td>Zyg11b</td>\n",
              "      <td>72.594734</td>\n",
              "      <td>70.235914</td>\n",
              "      <td>86.118467</td>\n",
              "      <td>62.551509</td>\n",
              "      <td>70.450632</td>\n",
              "      <td>61.208602</td>\n",
              "      <td>62.001143</td>\n",
              "      <td>65.497860</td>\n",
              "      <td>50.088996</td>\n",
              "      <td>...</td>\n",
              "      <td>77.843942</td>\n",
              "      <td>76.839417</td>\n",
              "      <td>77.171040</td>\n",
              "      <td>79.946995</td>\n",
              "      <td>56.950945</td>\n",
              "      <td>53.563170</td>\n",
              "      <td>53.841334</td>\n",
              "      <td>65.604834</td>\n",
              "      <td>97.406116</td>\n",
              "      <td>75.858494</td>\n",
              "    </tr>\n",
              "    <tr>\n",
              "      <th>52994</th>\n",
              "      <td>Zyx</td>\n",
              "      <td>39.998275</td>\n",
              "      <td>63.241466</td>\n",
              "      <td>54.629166</td>\n",
              "      <td>71.615095</td>\n",
              "      <td>46.719893</td>\n",
              "      <td>25.529216</td>\n",
              "      <td>22.610103</td>\n",
              "      <td>6.736923</td>\n",
              "      <td>14.060069</td>\n",
              "      <td>...</td>\n",
              "      <td>347.232286</td>\n",
              "      <td>378.724194</td>\n",
              "      <td>589.611979</td>\n",
              "      <td>534.645530</td>\n",
              "      <td>537.649940</td>\n",
              "      <td>455.382935</td>\n",
              "      <td>434.362203</td>\n",
              "      <td>468.024562</td>\n",
              "      <td>158.456429</td>\n",
              "      <td>157.437465</td>\n",
              "    </tr>\n",
              "    <tr>\n",
              "      <th>52995</th>\n",
              "      <td>Zzef1</td>\n",
              "      <td>111.596610</td>\n",
              "      <td>117.448437</td>\n",
              "      <td>144.564517</td>\n",
              "      <td>141.953629</td>\n",
              "      <td>147.822729</td>\n",
              "      <td>155.789734</td>\n",
              "      <td>129.124887</td>\n",
              "      <td>212.213068</td>\n",
              "      <td>121.707472</td>\n",
              "      <td>...</td>\n",
              "      <td>111.285254</td>\n",
              "      <td>107.706534</td>\n",
              "      <td>105.347932</td>\n",
              "      <td>124.417511</td>\n",
              "      <td>100.530799</td>\n",
              "      <td>115.765561</td>\n",
              "      <td>108.156346</td>\n",
              "      <td>131.698042</td>\n",
              "      <td>88.945961</td>\n",
              "      <td>97.496819</td>\n",
              "    </tr>\n",
              "    <tr>\n",
              "      <th>52996</th>\n",
              "      <td>Zzz3</td>\n",
              "      <td>82.843402</td>\n",
              "      <td>67.030125</td>\n",
              "      <td>86.357022</td>\n",
              "      <td>88.210394</td>\n",
              "      <td>81.080025</td>\n",
              "      <td>46.137137</td>\n",
              "      <td>67.300385</td>\n",
              "      <td>83.837261</td>\n",
              "      <td>58.437162</td>\n",
              "      <td>...</td>\n",
              "      <td>37.900153</td>\n",
              "      <td>56.699171</td>\n",
              "      <td>48.573597</td>\n",
              "      <td>42.721676</td>\n",
              "      <td>54.970043</td>\n",
              "      <td>46.651793</td>\n",
              "      <td>49.736130</td>\n",
              "      <td>52.744333</td>\n",
              "      <td>60.135701</td>\n",
              "      <td>77.848225</td>\n",
              "    </tr>\n",
              "  </tbody>\n",
              "</table>\n",
              "<p>52997 rows × 206 columns</p>\n",
              "</div>\n",
              "      <button class=\"colab-df-convert\" onclick=\"convertToInteractive('df-92e281fb-c114-401d-9c5c-f836200925a7')\"\n",
              "              title=\"Convert this dataframe to an interactive table.\"\n",
              "              style=\"display:none;\">\n",
              "        \n",
              "  <svg xmlns=\"http://www.w3.org/2000/svg\" height=\"24px\"viewBox=\"0 0 24 24\"\n",
              "       width=\"24px\">\n",
              "    <path d=\"M0 0h24v24H0V0z\" fill=\"none\"/>\n",
              "    <path d=\"M18.56 5.44l.94 2.06.94-2.06 2.06-.94-2.06-.94-.94-2.06-.94 2.06-2.06.94zm-11 1L8.5 8.5l.94-2.06 2.06-.94-2.06-.94L8.5 2.5l-.94 2.06-2.06.94zm10 10l.94 2.06.94-2.06 2.06-.94-2.06-.94-.94-2.06-.94 2.06-2.06.94z\"/><path d=\"M17.41 7.96l-1.37-1.37c-.4-.4-.92-.59-1.43-.59-.52 0-1.04.2-1.43.59L10.3 9.45l-7.72 7.72c-.78.78-.78 2.05 0 2.83L4 21.41c.39.39.9.59 1.41.59.51 0 1.02-.2 1.41-.59l7.78-7.78 2.81-2.81c.8-.78.8-2.07 0-2.86zM5.41 20L4 18.59l7.72-7.72 1.47 1.35L5.41 20z\"/>\n",
              "  </svg>\n",
              "      </button>\n",
              "      \n",
              "  <style>\n",
              "    .colab-df-container {\n",
              "      display:flex;\n",
              "      flex-wrap:wrap;\n",
              "      gap: 12px;\n",
              "    }\n",
              "\n",
              "    .colab-df-convert {\n",
              "      background-color: #E8F0FE;\n",
              "      border: none;\n",
              "      border-radius: 50%;\n",
              "      cursor: pointer;\n",
              "      display: none;\n",
              "      fill: #1967D2;\n",
              "      height: 32px;\n",
              "      padding: 0 0 0 0;\n",
              "      width: 32px;\n",
              "    }\n",
              "\n",
              "    .colab-df-convert:hover {\n",
              "      background-color: #E2EBFA;\n",
              "      box-shadow: 0px 1px 2px rgba(60, 64, 67, 0.3), 0px 1px 3px 1px rgba(60, 64, 67, 0.15);\n",
              "      fill: #174EA6;\n",
              "    }\n",
              "\n",
              "    [theme=dark] .colab-df-convert {\n",
              "      background-color: #3B4455;\n",
              "      fill: #D2E3FC;\n",
              "    }\n",
              "\n",
              "    [theme=dark] .colab-df-convert:hover {\n",
              "      background-color: #434B5C;\n",
              "      box-shadow: 0px 1px 3px 1px rgba(0, 0, 0, 0.15);\n",
              "      filter: drop-shadow(0px 1px 2px rgba(0, 0, 0, 0.3));\n",
              "      fill: #FFFFFF;\n",
              "    }\n",
              "  </style>\n",
              "\n",
              "      <script>\n",
              "        const buttonEl =\n",
              "          document.querySelector('#df-92e281fb-c114-401d-9c5c-f836200925a7 button.colab-df-convert');\n",
              "        buttonEl.style.display =\n",
              "          google.colab.kernel.accessAllowed ? 'block' : 'none';\n",
              "\n",
              "        async function convertToInteractive(key) {\n",
              "          const element = document.querySelector('#df-92e281fb-c114-401d-9c5c-f836200925a7');\n",
              "          const dataTable =\n",
              "            await google.colab.kernel.invokeFunction('convertToInteractive',\n",
              "                                                     [key], {});\n",
              "          if (!dataTable) return;\n",
              "\n",
              "          const docLinkHtml = 'Like what you see? Visit the ' +\n",
              "            '<a target=\"_blank\" href=https://colab.research.google.com/notebooks/data_table.ipynb>data table notebook</a>'\n",
              "            + ' to learn more about interactive tables.';\n",
              "          element.innerHTML = '';\n",
              "          dataTable['output_type'] = 'display_data';\n",
              "          await google.colab.output.renderOutput(dataTable, element);\n",
              "          const docLink = document.createElement('div');\n",
              "          docLink.innerHTML = docLinkHtml;\n",
              "          element.appendChild(docLink);\n",
              "        }\n",
              "      </script>\n",
              "    </div>\n",
              "  </div>\n",
              "  "
            ]
          },
          "metadata": {},
          "execution_count": 9
        }
      ]
    },
    {
      "cell_type": "code",
      "source": [
        "#df.filter(regex=\"proB|preB|CLP\") will give you only the columns containing those regular expressions"
      ],
      "metadata": {
        "id": "SFwLIE0uAttC"
      },
      "execution_count": 10,
      "outputs": []
    },
    {
      "cell_type": "code",
      "source": [
        "# from google.colab import files\n",
        "# rna_norm.to_csv(\"normalized_rnaseq_86cell.csv\", index=False, encoding = 'utf-8-sig') \n",
        "# files.download('normalized_rnaseq_86cell.csv')"
      ],
      "metadata": {
        "id": "nWOVhVTmC7Dm"
      },
      "execution_count": 11,
      "outputs": []
    },
    {
      "cell_type": "code",
      "source": [
        "# Step 1: Convert comma-separated strings to individual gene symbols\n",
        "atac = atac.assign(Gene_Symbol=atac['genes.within.100Kb'].str.split(',')).explode(\"Gene_Symbol\")"
      ],
      "metadata": {
        "id": "LMOiGoc784Zw"
      },
      "execution_count": 12,
      "outputs": []
    },
    {
      "cell_type": "code",
      "source": [
        "# Step 2: Merge dataframes on gene symbol column\n",
        "merged_df = pd.merge(rna_norm, atac, on='Gene_Symbol')"
      ],
      "metadata": {
        "id": "y6Q9cIaO_a07"
      },
      "execution_count": 13,
      "outputs": []
    },
    {
      "cell_type": "code",
      "source": [
        "# Step 3: Filter and rename relevant columns\n",
        "atc_cols = list(atac.columns)\n",
        "atc_renames = {c: f'ATAC_{c}' for c in atc_cols}\n",
        "atc_df = merged_df.filter(atc_cols).rename(columns=atc_renames)"
      ],
      "metadata": {
        "id": "qBBps_JeAgz6"
      },
      "execution_count": null,
      "outputs": []
    },
    {
      "cell_type": "code",
      "source": [
        "act_df"
      ],
      "metadata": {
        "id": "JrkimgsyCsXu"
      },
      "execution_count": null,
      "outputs": []
    },
    {
      "cell_type": "code",
      "source": [
        "# # Get the column names of the dataframe\n",
        "# rna_cells = rna.columns\n",
        "\n",
        "# # Create a dictionary to hold the groups of columns\n",
        "# grouped_columns = {}\n",
        "\n",
        "# # Group the columns by their prefixes\n",
        "# for col_name in rna_cells[1:]:\n",
        "#     prefix = col_name.split('#')[0] # Get the prefix without the replicate number\n",
        "#     if prefix not in grouped_columns:\n",
        "#         grouped_columns[prefix] = []\n",
        "#     grouped_columns[prefix].append(col_name)\n",
        "\n",
        "# # Calculate the mean of each group of columns\n",
        "# for prefix, cols in grouped_columns.items():\n",
        "#     rna[f\"{prefix}_mean\"] = rna[cols].mean(axis=1)"
      ],
      "metadata": {
        "id": "YV-CkT9bYdZv"
      },
      "execution_count": null,
      "outputs": []
    },
    {
      "cell_type": "markdown",
      "source": [
        "In this code snippet, rna_cells is a list of all the column names in the dataframe. The loop iterates over each column name and extracts the prefix without the replicate number by splitting the string at the \"#\" character. The dictionary grouped_columns is used to group the columns based on their prefix. If a prefix is encountered for the first time, a new key is added to the dictionary with an empty list as its value. If the prefix has already been encountered before, the column name is added to the list of columns associated with that prefix.\n",
        "\n",
        "After the loop is finished, the dictionary grouped_columns contains keys that are the prefixes and values that are lists of column names that start with that prefix. We can then loop over the dictionary and calculate the mean of each group of columns using the mean() method in pandas. Finally, a new column is added to the dataframe with the mean value for each group of columns, using f-strings to name the columns with the prefix and \"_mean\" appended to the end."
      ],
      "metadata": {
        "id": "_iBaHZNR5WG9"
      }
    }
  ]
}